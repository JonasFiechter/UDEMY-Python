{
 "cells": [
  {
   "cell_type": "markdown",
   "metadata": {},
   "source": [
    "# Python fundamental - Exercícios de fixação\n",
    "\n",
    "Exercício opcional para teste de compreensão básica de Python. Caso sinta dificuldade, peço que retorne as aulas anteriores para melhor compreensão da matéria já que é fundamental para o restante do curso."
   ]
  },
  {
   "cell_type": "markdown",
   "metadata": {},
   "source": [
    "## Exercícios"
   ]
  },
  {
   "cell_type": "markdown",
   "metadata": {},
   "source": [
    "### P) 2 elevado ao cubo (2^3)"
   ]
  },
  {
   "cell_type": "code",
   "execution_count": 2,
   "metadata": {},
   "outputs": [
    {
     "data": {
      "text/plain": [
       "1"
      ]
     },
     "execution_count": 2,
     "metadata": {},
     "output_type": "execute_result"
    }
   ],
   "source": [
    "2^3"
   ]
  },
  {
   "cell_type": "markdown",
   "metadata": {},
   "source": [
    "### Digite o seu nome e o quebre em uma lista.\n",
    "\n",
    "Ex: Jackie Chan\n",
    "R: ['Jackie', 'Chan']"
   ]
  },
  {
   "cell_type": "code",
   "execution_count": 4,
   "metadata": {},
   "outputs": [],
   "source": [
    "jonas=['Jonas Fiechter']"
   ]
  },
  {
   "cell_type": "code",
   "execution_count": 5,
   "metadata": {
    "scrolled": true
   },
   "outputs": [
    {
     "data": {
      "text/plain": [
       "['Jonas Fiechter']"
      ]
     },
     "execution_count": 5,
     "metadata": {},
     "output_type": "execute_result"
    }
   ],
   "source": [
    "jonas"
   ]
  },
  {
   "cell_type": "markdown",
   "metadata": {},
   "source": [
    "### P) Dada as variáveis abaixo, use o .format() para formatar a frase 'No Brasil, temos um total de 5570 municípios.'\n",
    "\n",
    "    pais = \"Brasil\"\n",
    "    municipio = 5570"
   ]
  },
  {
   "cell_type": "code",
   "execution_count": 6,
   "metadata": {},
   "outputs": [],
   "source": [
    "pais = 'Brasil'\n",
    "municipios = 5570"
   ]
  },
  {
   "cell_type": "code",
   "execution_count": 8,
   "metadata": {},
   "outputs": [
    {
     "data": {
      "text/plain": [
       "'No Brasil, temos um total de 5570 municípios'"
      ]
     },
     "execution_count": 8,
     "metadata": {},
     "output_type": "execute_result"
    }
   ],
   "source": [
    "'No {}, temos um total de {} municípios'.format(pais, municipios)"
   ]
  },
  {
   "cell_type": "markdown",
   "metadata": {},
   "source": [
    "### P) Dada a lista abaixo, use indexação para obter apenas a string \"Olá Mundo!\"."
   ]
  },
  {
   "cell_type": "code",
   "execution_count": 11,
   "metadata": {},
   "outputs": [],
   "source": [
    "lista = [1,2,[3,4],[5,[10,20,['Olá mundo!']],9,99],8,7]"
   ]
  },
  {
   "cell_type": "code",
   "execution_count": 19,
   "metadata": {},
   "outputs": [
    {
     "data": {
      "text/plain": [
       "'Olá mundo!'"
      ]
     },
     "execution_count": 19,
     "metadata": {},
     "output_type": "execute_result"
    }
   ],
   "source": [
    "lista[3][1][2][0]"
   ]
  },
  {
   "cell_type": "markdown",
   "metadata": {},
   "source": [
    "### P) Dado o dicionário abaixo, extraia a string \"Olá mundo!\""
   ]
  },
  {
   "cell_type": "code",
   "execution_count": 18,
   "metadata": {},
   "outputs": [],
   "source": [
    "d = {'x1':[1,2,3,{'frutas':['maça','mamão','goiaba',{'alvo':[1,2,3,'Olá mundo!']}]}]}"
   ]
  },
  {
   "cell_type": "code",
   "execution_count": 19,
   "metadata": {},
   "outputs": [
    {
     "data": {
      "text/plain": [
       "'Olá mundo!'"
      ]
     },
     "execution_count": 19,
     "metadata": {},
     "output_type": "execute_result"
    }
   ],
   "source": []
  },
  {
   "cell_type": "markdown",
   "metadata": {},
   "source": [
    "### P) Qual a principal diferença entre um dicionário e uma tupla?"
   ]
  },
  {
   "cell_type": "code",
   "execution_count": null,
   "metadata": {},
   "outputs": [],
   "source": []
  },
  {
   "cell_type": "markdown",
   "metadata": {},
   "source": [
    "### P) Crie uma função que conte o total de vezes que uma determinada palavra aparece em uma frase. Ignore casos extremos como pontuação e acentuação, o intúito é aprender a lógica de programação."
   ]
  },
  {
   "cell_type": "code",
   "execution_count": 20,
   "metadata": {},
   "outputs": [],
   "source": []
  },
  {
   "cell_type": "code",
   "execution_count": 21,
   "metadata": {},
   "outputs": [
    {
     "data": {
      "text/plain": [
       "2"
      ]
     },
     "execution_count": 21,
     "metadata": {},
     "output_type": "execute_result"
    }
   ],
   "source": []
  },
  {
   "cell_type": "markdown",
   "metadata": {},
   "source": [
    "### Utilizando lambda e filter,  filtre as palavras de uma lista que não começa com a letra 'm'. Exemplo:\n",
    "\n",
    "    lista = ['maria','garfo','montanha','python','máximo']\n",
    "\n",
    "Deve ser filtrado para:\n",
    "\n",
    "    ['maria','montanha', 'máximo']"
   ]
  },
  {
   "cell_type": "code",
   "execution_count": 22,
   "metadata": {},
   "outputs": [],
   "source": []
  },
  {
   "cell_type": "code",
   "execution_count": 23,
   "metadata": {},
   "outputs": [
    {
     "data": {
      "text/plain": [
       "['maria', 'montanha', 'máximo']"
      ]
     },
     "execution_count": 23,
     "metadata": {},
     "output_type": "execute_result"
    }
   ],
   "source": []
  },
  {
   "cell_type": "markdown",
   "metadata": {},
   "source": [
    "### P) Desafio\n",
    "Imagine que seu filho não tenha muito controle de velocidade do carro e que você quer monitar, via celular, a velocidade permitida de um determinado ponto.\n",
    "\n",
    "Cria uma função que retorne a velocidade do instante e se ultrapassou ou não os limítes permitidos baseados nas regras abaixo:\n",
    "\n",
    "Se velocidade menor igual a 70, o resultado é \"Alerta de velocidade baixa, ligar para filho e perguntar se houve algum problema com o carro'.\n",
    "\n",
    "Se a velocidade for entre 71 e 110 inclusive, o resultado é \"Velocidade controlada\". \n",
    "\n",
    "Se a velocidade é de 111 ou mais, o resultado é \"Excesso de velocidade, ligar para filho e chamar a atenção pela multa'.\n",
    "\n",
    "OBS: Caso o dia seja chuvoso, o sistema não deve emitir alerta de problema com o carro pois e prudente andar mais devagar nesta condição mas deve avisar sobre a velocidade baixa."
   ]
  },
  {
   "cell_type": "code",
   "execution_count": 24,
   "metadata": {},
   "outputs": [],
   "source": [
    "def condicao_filho(velocidade, tempo):\n",
    "   return"
   ]
  },
  {
   "cell_type": "code",
   "execution_count": null,
   "metadata": {},
   "outputs": [],
   "source": [
    "condicao_filho(120,'Nublado')"
   ]
  },
  {
   "cell_type": "code",
   "execution_count": null,
   "metadata": {},
   "outputs": [],
   "source": [
    "condicao_filho(55,'Ensolarado')"
   ]
  }
 ],
 "metadata": {
  "kernelspec": {
   "display_name": "Python 3 (ipykernel)",
   "language": "python",
   "name": "python3"
  },
  "language_info": {
   "codemirror_mode": {
    "name": "ipython",
    "version": 3
   },
   "file_extension": ".py",
   "mimetype": "text/x-python",
   "name": "python",
   "nbconvert_exporter": "python",
   "pygments_lexer": "ipython3",
   "version": "3.9.12"
  }
 },
 "nbformat": 4,
 "nbformat_minor": 1
}
